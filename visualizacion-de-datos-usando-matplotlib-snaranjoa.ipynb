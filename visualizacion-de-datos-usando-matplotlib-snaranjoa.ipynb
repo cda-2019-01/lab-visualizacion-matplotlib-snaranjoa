{
 "cells": [
  {
   "cell_type": "markdown",
   "metadata": {},
   "source": [
    "LAB: Visualización de datos usando Matplotlib\n",
    "=========================================="
   ]
  },
  {
   "cell_type": "code",
   "execution_count": 1,
   "metadata": {},
   "outputs": [],
   "source": [
    "import pandas as pd\n",
    "import numpy as np\n",
    "import matplotlib.pyplot as plt\n",
    "import matplotlib as mpl\n",
    "%matplotlib inline\n",
    "import os"
   ]
  },
  {
   "cell_type": "markdown",
   "metadata": {},
   "source": [
    "## Punto 1"
   ]
  },
  {
   "cell_type": "markdown",
   "metadata": {},
   "source": [
    "Construya una gráfica similar a la siguiente usando el archivo `indicadores-mundiales.csv`. Se grafica la suma del porcetaje de la población por regiones.\n",
    "\n",
    "![act2](images/suma-pob-region-edades-2.png)\n"
   ]
  },
  {
   "cell_type": "code",
   "execution_count": 3,
   "metadata": {},
   "outputs": [],
   "source": [
    "df = pd.read_csv(open('indicadores-mundiales.csv'), delimiter=',')"
   ]
  },
  {
   "cell_type": "code",
   "execution_count": 4,
   "metadata": {},
   "outputs": [],
   "source": [
    "dfcopy = df.copy()"
   ]
  },
  {
   "cell_type": "code",
   "execution_count": 5,
   "metadata": {},
   "outputs": [
    {
     "data": {
      "text/html": [
       "<div>\n",
       "<style scoped>\n",
       "    .dataframe tbody tr th:only-of-type {\n",
       "        vertical-align: middle;\n",
       "    }\n",
       "\n",
       "    .dataframe tbody tr th {\n",
       "        vertical-align: top;\n",
       "    }\n",
       "\n",
       "    .dataframe thead th {\n",
       "        text-align: right;\n",
       "    }\n",
       "</style>\n",
       "<table border=\"1\" class=\"dataframe\">\n",
       "  <thead>\n",
       "    <tr style=\"text-align: right;\">\n",
       "      <th></th>\n",
       "      <th>Poblacion 0-14</th>\n",
       "      <th>Poblacion 15-64</th>\n",
       "      <th>Poblacion 65+</th>\n",
       "    </tr>\n",
       "    <tr>\n",
       "      <th>Region</th>\n",
       "      <th></th>\n",
       "      <th></th>\n",
       "      <th></th>\n",
       "    </tr>\n",
       "  </thead>\n",
       "  <tbody>\n",
       "    <tr>\n",
       "      <th>Asia</th>\n",
       "      <td>53.186</td>\n",
       "      <td>106.687</td>\n",
       "      <td>10.130</td>\n",
       "    </tr>\n",
       "    <tr>\n",
       "      <th>Europa</th>\n",
       "      <td>37.802</td>\n",
       "      <td>138.306</td>\n",
       "      <td>28.905</td>\n",
       "    </tr>\n",
       "    <tr>\n",
       "      <th>Las Americas</th>\n",
       "      <td>53.755</td>\n",
       "      <td>109.018</td>\n",
       "      <td>12.231</td>\n",
       "    </tr>\n",
       "    <tr>\n",
       "      <th>Oceania</th>\n",
       "      <td>17.848</td>\n",
       "      <td>31.331</td>\n",
       "      <td>2.825</td>\n",
       "    </tr>\n",
       "    <tr>\n",
       "      <th>Oriente Medio</th>\n",
       "      <td>17.547</td>\n",
       "      <td>32.511</td>\n",
       "      <td>1.942</td>\n",
       "    </tr>\n",
       "    <tr>\n",
       "      <th>africa</th>\n",
       "      <td>111.362</td>\n",
       "      <td>144.527</td>\n",
       "      <td>9.117</td>\n",
       "    </tr>\n",
       "  </tbody>\n",
       "</table>\n",
       "</div>"
      ],
      "text/plain": [
       "               Poblacion 0-14  Poblacion 15-64  Poblacion 65+\n",
       "Region                                                       \n",
       "Asia                   53.186          106.687         10.130\n",
       "Europa                 37.802          138.306         28.905\n",
       "Las Americas           53.755          109.018         12.231\n",
       "Oceania                17.848           31.331          2.825\n",
       "Oriente Medio          17.547           32.511          1.942\n",
       "africa                111.362          144.527          9.117"
      ]
     },
     "execution_count": 5,
     "metadata": {},
     "output_type": "execute_result"
    }
   ],
   "source": [
    "aux = (df.groupby('Region')['Poblacion 0-14','Poblacion 15-64','Poblacion 65+'].sum() / 100).sort_values(by='Region')\n",
    "aux"
   ]
  },
  {
   "cell_type": "code",
   "execution_count": 6,
   "metadata": {},
   "outputs": [
    {
     "data": {
      "text/html": [
       "<div>\n",
       "<style scoped>\n",
       "    .dataframe tbody tr th:only-of-type {\n",
       "        vertical-align: middle;\n",
       "    }\n",
       "\n",
       "    .dataframe tbody tr th {\n",
       "        vertical-align: top;\n",
       "    }\n",
       "\n",
       "    .dataframe thead th {\n",
       "        text-align: right;\n",
       "    }\n",
       "</style>\n",
       "<table border=\"1\" class=\"dataframe\">\n",
       "  <thead>\n",
       "    <tr style=\"text-align: right;\">\n",
       "      <th>Region</th>\n",
       "      <th>Asia</th>\n",
       "      <th>Europa</th>\n",
       "      <th>Las Americas</th>\n",
       "      <th>Oceania</th>\n",
       "      <th>Oriente Medio</th>\n",
       "      <th>africa</th>\n",
       "    </tr>\n",
       "  </thead>\n",
       "  <tbody>\n",
       "    <tr>\n",
       "      <th>Poblacion 0-14</th>\n",
       "      <td>53.186</td>\n",
       "      <td>37.802</td>\n",
       "      <td>53.755</td>\n",
       "      <td>17.848</td>\n",
       "      <td>17.547</td>\n",
       "      <td>111.362</td>\n",
       "    </tr>\n",
       "    <tr>\n",
       "      <th>Poblacion 15-64</th>\n",
       "      <td>106.687</td>\n",
       "      <td>138.306</td>\n",
       "      <td>109.018</td>\n",
       "      <td>31.331</td>\n",
       "      <td>32.511</td>\n",
       "      <td>144.527</td>\n",
       "    </tr>\n",
       "    <tr>\n",
       "      <th>Poblacion 65+</th>\n",
       "      <td>10.130</td>\n",
       "      <td>28.905</td>\n",
       "      <td>12.231</td>\n",
       "      <td>2.825</td>\n",
       "      <td>1.942</td>\n",
       "      <td>9.117</td>\n",
       "    </tr>\n",
       "  </tbody>\n",
       "</table>\n",
       "</div>"
      ],
      "text/plain": [
       "Region              Asia   Europa  Las Americas  Oceania  Oriente Medio  \\\n",
       "Poblacion 0-14    53.186   37.802        53.755   17.848         17.547   \n",
       "Poblacion 15-64  106.687  138.306       109.018   31.331         32.511   \n",
       "Poblacion 65+     10.130   28.905        12.231    2.825          1.942   \n",
       "\n",
       "Region            africa  \n",
       "Poblacion 0-14   111.362  \n",
       "Poblacion 15-64  144.527  \n",
       "Poblacion 65+      9.117  "
      ]
     },
     "execution_count": 6,
     "metadata": {},
     "output_type": "execute_result"
    }
   ],
   "source": [
    "auxT = aux.T\n",
    "auxT"
   ]
  },
  {
   "cell_type": "code",
   "execution_count": 7,
   "metadata": {},
   "outputs": [
    {
     "data": {
      "image/png": "[encoded data removed]",
      "text/plain": [
       "<Figure size 1008x432 with 6 Axes>"
      ]
     },
     "metadata": {
      "needs_background": "light"
     },
     "output_type": "display_data"
    }
   ],
   "source": [
    "fig, axs = plt.subplots(1, 6, sharex='col', sharey='row', figsize=(14, 6));\n",
    "plt.subplots_adjust(wspace = 0, hspace=0.1)\n",
    "plt.style.use('default')\n",
    "colors = ['blue', 'orange', 'green']\n",
    "for i, colname in enumerate(auxT.columns):\n",
    "    axs[i].scatter(list(auxT.index), auxT[colname], s=100, edgecolors=colors, linewidths=1, \n",
    "                       facecolors='none')\n",
    "    axs[i].set_title(colname)\n",
    "    plt.style.use('default')\n",
    "    for tick in axs[i].get_xticklabels():\n",
    "        tick.set_rotation(90)"
   ]
  },
  {
   "cell_type": "code",
   "execution_count": null,
   "metadata": {},
   "outputs": [],
   "source": []
  },
  {
   "cell_type": "markdown",
   "metadata": {},
   "source": [
    "## Punto 2\n",
    "\n",
    "Construya una gráfica similar a la siguiente usando el archivo `indicadores-mundiales.csv`. Se grafica la suma del porcetaje de la población por regiones.\n",
    "\n",
    "![act2](images/suma-pob-region-edades-3.png)\n"
   ]
  },
  {
   "cell_type": "code",
   "execution_count": 10,
   "metadata": {},
   "outputs": [],
   "source": [
    "df=pd.read_csv(open('indicadores-mundiales.csv'), delimiter=',')"
   ]
  },
  {
   "cell_type": "code",
   "execution_count": 11,
   "metadata": {},
   "outputs": [],
   "source": [
    "copia = df.copy()\n",
    "(df.loc[df['Region'] == \"africa\", \"Region\"]) = \"Africa\""
   ]
  },
  {
   "cell_type": "code",
   "execution_count": 12,
   "metadata": {},
   "outputs": [
    {
     "data": {
      "text/html": [
       "<div>\n",
       "<style scoped>\n",
       "    .dataframe tbody tr th:only-of-type {\n",
       "        vertical-align: middle;\n",
       "    }\n",
       "\n",
       "    .dataframe tbody tr th {\n",
       "        vertical-align: top;\n",
       "    }\n",
       "\n",
       "    .dataframe thead th {\n",
       "        text-align: right;\n",
       "    }\n",
       "</style>\n",
       "<table border=\"1\" class=\"dataframe\">\n",
       "  <thead>\n",
       "    <tr style=\"text-align: right;\">\n",
       "      <th></th>\n",
       "      <th>Poblacion 0-14</th>\n",
       "      <th>Poblacion 15-64</th>\n",
       "      <th>Poblacion 65+</th>\n",
       "    </tr>\n",
       "    <tr>\n",
       "      <th>Region</th>\n",
       "      <th></th>\n",
       "      <th></th>\n",
       "      <th></th>\n",
       "    </tr>\n",
       "  </thead>\n",
       "  <tbody>\n",
       "    <tr>\n",
       "      <th>Africa</th>\n",
       "      <td>111.362</td>\n",
       "      <td>144.527</td>\n",
       "      <td>9.117</td>\n",
       "    </tr>\n",
       "    <tr>\n",
       "      <th>Asia</th>\n",
       "      <td>53.186</td>\n",
       "      <td>106.687</td>\n",
       "      <td>10.130</td>\n",
       "    </tr>\n",
       "    <tr>\n",
       "      <th>Europa</th>\n",
       "      <td>37.802</td>\n",
       "      <td>138.306</td>\n",
       "      <td>28.905</td>\n",
       "    </tr>\n",
       "    <tr>\n",
       "      <th>Las Americas</th>\n",
       "      <td>53.755</td>\n",
       "      <td>109.018</td>\n",
       "      <td>12.231</td>\n",
       "    </tr>\n",
       "    <tr>\n",
       "      <th>Oceania</th>\n",
       "      <td>17.848</td>\n",
       "      <td>31.331</td>\n",
       "      <td>2.825</td>\n",
       "    </tr>\n",
       "    <tr>\n",
       "      <th>Oriente Medio</th>\n",
       "      <td>17.547</td>\n",
       "      <td>32.511</td>\n",
       "      <td>1.942</td>\n",
       "    </tr>\n",
       "  </tbody>\n",
       "</table>\n",
       "</div>"
      ],
      "text/plain": [
       "               Poblacion 0-14  Poblacion 15-64  Poblacion 65+\n",
       "Region                                                       \n",
       "Africa                111.362          144.527          9.117\n",
       "Asia                   53.186          106.687         10.130\n",
       "Europa                 37.802          138.306         28.905\n",
       "Las Americas           53.755          109.018         12.231\n",
       "Oceania                17.848           31.331          2.825\n",
       "Oriente Medio          17.547           32.511          1.942"
      ]
     },
     "execution_count": 12,
     "metadata": {},
     "output_type": "execute_result"
    }
   ],
   "source": [
    "aux = (df.groupby('Region')['Poblacion 0-14','Poblacion 15-64','Poblacion 65+'].sum() / 100).sort_values(by='Region')\n",
    "aux"
   ]
  },
  {
   "cell_type": "code",
   "execution_count": 13,
   "metadata": {},
   "outputs": [
    {
     "data": {
      "text/html": [
       "<div>\n",
       "<style scoped>\n",
       "    .dataframe tbody tr th:only-of-type {\n",
       "        vertical-align: middle;\n",
       "    }\n",
       "\n",
       "    .dataframe tbody tr th {\n",
       "        vertical-align: top;\n",
       "    }\n",
       "\n",
       "    .dataframe thead th {\n",
       "        text-align: right;\n",
       "    }\n",
       "</style>\n",
       "<table border=\"1\" class=\"dataframe\">\n",
       "  <thead>\n",
       "    <tr style=\"text-align: right;\">\n",
       "      <th>Region</th>\n",
       "      <th>Africa</th>\n",
       "      <th>Asia</th>\n",
       "      <th>Europa</th>\n",
       "      <th>Las Americas</th>\n",
       "      <th>Oceania</th>\n",
       "      <th>Oriente Medio</th>\n",
       "    </tr>\n",
       "  </thead>\n",
       "  <tbody>\n",
       "    <tr>\n",
       "      <th>Poblacion 0-14</th>\n",
       "      <td>111.362</td>\n",
       "      <td>53.186</td>\n",
       "      <td>37.802</td>\n",
       "      <td>53.755</td>\n",
       "      <td>17.848</td>\n",
       "      <td>17.547</td>\n",
       "    </tr>\n",
       "    <tr>\n",
       "      <th>Poblacion 15-64</th>\n",
       "      <td>144.527</td>\n",
       "      <td>106.687</td>\n",
       "      <td>138.306</td>\n",
       "      <td>109.018</td>\n",
       "      <td>31.331</td>\n",
       "      <td>32.511</td>\n",
       "    </tr>\n",
       "    <tr>\n",
       "      <th>Poblacion 65+</th>\n",
       "      <td>9.117</td>\n",
       "      <td>10.130</td>\n",
       "      <td>28.905</td>\n",
       "      <td>12.231</td>\n",
       "      <td>2.825</td>\n",
       "      <td>1.942</td>\n",
       "    </tr>\n",
       "  </tbody>\n",
       "</table>\n",
       "</div>"
      ],
      "text/plain": [
       "Region            Africa     Asia   Europa  Las Americas  Oceania  \\\n",
       "Poblacion 0-14   111.362   53.186   37.802        53.755   17.848   \n",
       "Poblacion 15-64  144.527  106.687  138.306       109.018   31.331   \n",
       "Poblacion 65+      9.117   10.130   28.905        12.231    2.825   \n",
       "\n",
       "Region           Oriente Medio  \n",
       "Poblacion 0-14          17.547  \n",
       "Poblacion 15-64         32.511  \n",
       "Poblacion 65+            1.942  "
      ]
     },
     "execution_count": 13,
     "metadata": {},
     "output_type": "execute_result"
    }
   ],
   "source": [
    "auxT = aux.T\n",
    "auxT"
   ]
  },
  {
   "cell_type": "code",
   "execution_count": 25,
   "metadata": {},
   "outputs": [
    {
     "data": {
      "image/png": "[encoded data removed]",
      "text/plain": [
       "<Figure size 1400x600 with 6 Axes>"
      ]
     },
     "metadata": {},
     "output_type": "display_data"
    }
   ],
   "source": [
    "fig, axs = plt.subplots(1, 6, sharex='col', sharey='row', figsize=(14, 6));\n",
    "plt.subplots_adjust(wspace = 0, hspace=0.1)\n",
    "plt.style.use('default')\n",
    "colors = ['#42aaf4', 'orange', 'green']\n",
    "for i, colname in enumerate(auxT.columns):\n",
    "    axs[i].bar(list(auxT.index), auxT[colname], color=colors)\n",
    "    axs[i].set_title(colname)\n",
    "    plt.style.use('default')\n",
    "    for tick in axs[i].get_xticklabels():\n",
    "        tick.set_rotation(90)"
   ]
  },
  {
   "cell_type": "markdown",
   "metadata": {},
   "source": [
    "## Punto 3\n",
    "Construya una gráfica similar a la siguiente usando el archivo `indicadores-mundiales.csv`. Se grafica la suma del porcetaje de la población por regiones.\n",
    "\n",
    "![act3](images/suma-pob-region-edades-4.png)"
   ]
  },
  {
   "cell_type": "code",
   "execution_count": 26,
   "metadata": {},
   "outputs": [],
   "source": [
    "df=pd.read_csv(open('indicadores-mundiales.csv'), delimiter=',')\n",
    "copia = df.copy()\n",
    "(df.loc[df['Region'] == \"africa\", \"Region\"]) = \"Africa\"\n",
    "aux = (df.groupby('Region')['Poblacion 0-14','Poblacion 15-64','Poblacion 65+'].sum() / 100).sort_values(by='Region')"
   ]
  },
  {
   "cell_type": "code",
   "execution_count": 27,
   "metadata": {},
   "outputs": [
    {
     "data": {
      "image/png": "[encoded data removed]",
      "text/plain": [
       "<Figure size 1000x1400 with 3 Axes>"
      ]
     },
     "metadata": {},
     "output_type": "display_data"
    }
   ],
   "source": [
    "fig, axs = plt.subplots(3, 1, sharex='col', sharey='row', figsize=(10, 14));\n",
    "plt.xticks(rotation='vertical')\n",
    "plt.subplots_adjust(wspace = 0, hspace=0)\n",
    "colors = ['#42aaf4', 'orange', 'green']\n",
    "for i, colname in enumerate(aux.columns):\n",
    "    axs[i].bar(list(aux.index), aux[colname], color=colors[i])\n",
    "    axs[i].set_ylabel(colname)\n",
    "    for tick in axs[i].get_xticklabels():\n",
    "        tick.set_rotation(0)"
   ]
  },
  {
   "cell_type": "markdown",
   "metadata": {},
   "source": [
    "## Punto 4\n",
    "\n",
    "Construya una gráfica similar a la siguiente usando el archivo `indicadores-mundiales.csv`. Promedio de gastos per capita por año.\n",
    "\n",
    "![act4](images/prom-gastos-salud-per-capita-ano.png)"
   ]
  },
  {
   "cell_type": "code",
   "execution_count": 28,
   "metadata": {},
   "outputs": [],
   "source": [
    "df=pd.read_csv(open('indicadores-mundiales.csv'), delimiter=',')\n",
    "copia = df.copy()\n",
    "soloano=[]\n",
    "soloano = [ z.split('-')[0] for z in df.Ano]\n",
    "df['soloano']=soloano"
   ]
  },
  {
   "cell_type": "code",
   "execution_count": 29,
   "metadata": {},
   "outputs": [
    {
     "data": {
      "text/plain": [
       "Index(['Ano', 'Dias para iniciar un negocio', 'Emisiones de CO2',\n",
       "       'Esperanza de vida (mujeres)', 'Esperanza de vida (varones)',\n",
       "       'Facilidad para hacer negocios', 'Gasto en salud ( del PIB)',\n",
       "       'Gasto en salud (per capita)', 'Horas preparar los impuestos',\n",
       "       'Interes de prestamos', 'PIB', 'Pais', 'Poblacion 0-14',\n",
       "       'Poblacion 15-64', 'Poblacion 65+', 'Poblacion total',\n",
       "       'Poblacion urbana', 'Region', 'Tasa de mortalidad infantil',\n",
       "       'Tasa de natalidad', 'Tasa tributaria empresarial', 'Turismo emisor',\n",
       "       'Turismo receptivo', 'Uso de Internet', 'Uso de energia',\n",
       "       'Uso de telefonos celulares', 'soloano'],\n",
       "      dtype='object')"
      ]
     },
     "execution_count": 29,
     "metadata": {},
     "output_type": "execute_result"
    }
   ],
   "source": [
    "df.columns"
   ]
  },
  {
   "cell_type": "code",
   "execution_count": 30,
   "metadata": {},
   "outputs": [],
   "source": [
    "aux = df.copy()"
   ]
  },
  {
   "cell_type": "code",
   "execution_count": 35,
   "metadata": {},
   "outputs": [],
   "source": [
    "aux['anio'] = pd.to_datetime(aux['Ano']).dt.year"
   ]
  },
  {
   "cell_type": "code",
   "execution_count": 36,
   "metadata": {},
   "outputs": [],
   "source": [
    "aux2 = aux.groupby(['anio', 'Region'])['Gasto en salud (per capita)'].mean()"
   ]
  },
  {
   "cell_type": "code",
   "execution_count": 37,
   "metadata": {},
   "outputs": [
    {
     "data": {
      "text/plain": [
       "anio  Region       \n",
       "2000  Asia              182.100000\n",
       "      Europa           1143.454545\n",
       "      Las Americas      450.028571\n",
       "      Oceania           349.454545\n",
       "      Oriente Medio     427.846154\n",
       "      africa             50.520000\n",
       "2001  Asia              169.800000\n",
       "      Europa           1177.045455\n",
       "      Las Americas      463.228571\n",
       "      Oceania           339.181818\n",
       "      Oriente Medio     459.230769\n",
       "      africa             50.360000\n",
       "2002  Asia              169.612903\n",
       "      Europa           1359.477273\n",
       "      Las Americas      463.400000\n",
       "      Oceania           376.454545\n",
       "      Oriente Medio     449.076923\n",
       "      africa             50.980000\n",
       "2003  Asia              196.129032\n",
       "      Europa           1704.250000\n",
       "      Las Americas      493.542857\n",
       "      Oceania           461.727273\n",
       "      Oriente Medio     511.000000\n",
       "      africa             61.040000\n",
       "2004  Asia              215.580645\n",
       "      Europa           1975.931818\n",
       "      Las Americas      645.600000\n",
       "      africa             73.460000\n",
       "Name: Gasto en salud (per capita), dtype: float64"
      ]
     },
     "execution_count": 37,
     "metadata": {},
     "output_type": "execute_result"
    }
   ],
   "source": [
    "aux2"
   ]
  },
  {
   "cell_type": "code",
   "execution_count": 38,
   "metadata": {},
   "outputs": [],
   "source": [
    "aux3 = aux2.to_frame()\n",
    "# aux3['anio2'] = aux2['anio']"
   ]
  },
  {
   "cell_type": "code",
   "execution_count": 39,
   "metadata": {},
   "outputs": [],
   "source": [
    "aux3.reset_index(inplace=True)  "
   ]
  },
  {
   "cell_type": "code",
   "execution_count": 40,
   "metadata": {},
   "outputs": [],
   "source": [
    "aux4 = aux3.drop(['Region'], axis=1)"
   ]
  },
  {
   "cell_type": "code",
   "execution_count": 41,
   "metadata": {},
   "outputs": [
    {
     "data": {
      "text/html": [
       "<div>\n",
       "<style scoped>\n",
       "    .dataframe tbody tr th:only-of-type {\n",
       "        vertical-align: middle;\n",
       "    }\n",
       "\n",
       "    .dataframe tbody tr th {\n",
       "        vertical-align: top;\n",
       "    }\n",
       "\n",
       "    .dataframe thead th {\n",
       "        text-align: right;\n",
       "    }\n",
       "</style>\n",
       "<table border=\"1\" class=\"dataframe\">\n",
       "  <thead>\n",
       "    <tr style=\"text-align: right;\">\n",
       "      <th></th>\n",
       "      <th>anio</th>\n",
       "      <th>Gasto en salud (per capita)</th>\n",
       "    </tr>\n",
       "  </thead>\n",
       "  <tbody>\n",
       "    <tr>\n",
       "      <th>0</th>\n",
       "      <td>2000</td>\n",
       "      <td>182.100000</td>\n",
       "    </tr>\n",
       "    <tr>\n",
       "      <th>1</th>\n",
       "      <td>2000</td>\n",
       "      <td>1143.454545</td>\n",
       "    </tr>\n",
       "    <tr>\n",
       "      <th>2</th>\n",
       "      <td>2000</td>\n",
       "      <td>450.028571</td>\n",
       "    </tr>\n",
       "    <tr>\n",
       "      <th>3</th>\n",
       "      <td>2000</td>\n",
       "      <td>349.454545</td>\n",
       "    </tr>\n",
       "    <tr>\n",
       "      <th>4</th>\n",
       "      <td>2000</td>\n",
       "      <td>427.846154</td>\n",
       "    </tr>\n",
       "    <tr>\n",
       "      <th>5</th>\n",
       "      <td>2000</td>\n",
       "      <td>50.520000</td>\n",
       "    </tr>\n",
       "    <tr>\n",
       "      <th>6</th>\n",
       "      <td>2001</td>\n",
       "      <td>169.800000</td>\n",
       "    </tr>\n",
       "    <tr>\n",
       "      <th>7</th>\n",
       "      <td>2001</td>\n",
       "      <td>1177.045455</td>\n",
       "    </tr>\n",
       "    <tr>\n",
       "      <th>8</th>\n",
       "      <td>2001</td>\n",
       "      <td>463.228571</td>\n",
       "    </tr>\n",
       "    <tr>\n",
       "      <th>9</th>\n",
       "      <td>2001</td>\n",
       "      <td>339.181818</td>\n",
       "    </tr>\n",
       "    <tr>\n",
       "      <th>10</th>\n",
       "      <td>2001</td>\n",
       "      <td>459.230769</td>\n",
       "    </tr>\n",
       "    <tr>\n",
       "      <th>11</th>\n",
       "      <td>2001</td>\n",
       "      <td>50.360000</td>\n",
       "    </tr>\n",
       "    <tr>\n",
       "      <th>12</th>\n",
       "      <td>2002</td>\n",
       "      <td>169.612903</td>\n",
       "    </tr>\n",
       "    <tr>\n",
       "      <th>13</th>\n",
       "      <td>2002</td>\n",
       "      <td>1359.477273</td>\n",
       "    </tr>\n",
       "    <tr>\n",
       "      <th>14</th>\n",
       "      <td>2002</td>\n",
       "      <td>463.400000</td>\n",
       "    </tr>\n",
       "    <tr>\n",
       "      <th>15</th>\n",
       "      <td>2002</td>\n",
       "      <td>376.454545</td>\n",
       "    </tr>\n",
       "    <tr>\n",
       "      <th>16</th>\n",
       "      <td>2002</td>\n",
       "      <td>449.076923</td>\n",
       "    </tr>\n",
       "    <tr>\n",
       "      <th>17</th>\n",
       "      <td>2002</td>\n",
       "      <td>50.980000</td>\n",
       "    </tr>\n",
       "    <tr>\n",
       "      <th>18</th>\n",
       "      <td>2003</td>\n",
       "      <td>196.129032</td>\n",
       "    </tr>\n",
       "    <tr>\n",
       "      <th>19</th>\n",
       "      <td>2003</td>\n",
       "      <td>1704.250000</td>\n",
       "    </tr>\n",
       "    <tr>\n",
       "      <th>20</th>\n",
       "      <td>2003</td>\n",
       "      <td>493.542857</td>\n",
       "    </tr>\n",
       "    <tr>\n",
       "      <th>21</th>\n",
       "      <td>2003</td>\n",
       "      <td>461.727273</td>\n",
       "    </tr>\n",
       "    <tr>\n",
       "      <th>22</th>\n",
       "      <td>2003</td>\n",
       "      <td>511.000000</td>\n",
       "    </tr>\n",
       "    <tr>\n",
       "      <th>23</th>\n",
       "      <td>2003</td>\n",
       "      <td>61.040000</td>\n",
       "    </tr>\n",
       "    <tr>\n",
       "      <th>24</th>\n",
       "      <td>2004</td>\n",
       "      <td>215.580645</td>\n",
       "    </tr>\n",
       "    <tr>\n",
       "      <th>25</th>\n",
       "      <td>2004</td>\n",
       "      <td>1975.931818</td>\n",
       "    </tr>\n",
       "    <tr>\n",
       "      <th>26</th>\n",
       "      <td>2004</td>\n",
       "      <td>645.600000</td>\n",
       "    </tr>\n",
       "    <tr>\n",
       "      <th>27</th>\n",
       "      <td>2004</td>\n",
       "      <td>73.460000</td>\n",
       "    </tr>\n",
       "  </tbody>\n",
       "</table>\n",
       "</div>"
      ],
      "text/plain": [
       "    anio  Gasto en salud (per capita)\n",
       "0   2000                   182.100000\n",
       "1   2000                  1143.454545\n",
       "2   2000                   450.028571\n",
       "3   2000                   349.454545\n",
       "4   2000                   427.846154\n",
       "5   2000                    50.520000\n",
       "6   2001                   169.800000\n",
       "7   2001                  1177.045455\n",
       "8   2001                   463.228571\n",
       "9   2001                   339.181818\n",
       "10  2001                   459.230769\n",
       "11  2001                    50.360000\n",
       "12  2002                   169.612903\n",
       "13  2002                  1359.477273\n",
       "14  2002                   463.400000\n",
       "15  2002                   376.454545\n",
       "16  2002                   449.076923\n",
       "17  2002                    50.980000\n",
       "18  2003                   196.129032\n",
       "19  2003                  1704.250000\n",
       "20  2003                   493.542857\n",
       "21  2003                   461.727273\n",
       "22  2003                   511.000000\n",
       "23  2003                    61.040000\n",
       "24  2004                   215.580645\n",
       "25  2004                  1975.931818\n",
       "26  2004                   645.600000\n",
       "27  2004                    73.460000"
      ]
     },
     "execution_count": 41,
     "metadata": {},
     "output_type": "execute_result"
    }
   ],
   "source": [
    "aux4"
   ]
  },
  {
   "cell_type": "code",
   "execution_count": 42,
   "metadata": {},
   "outputs": [],
   "source": [
    "aux4 = aux3[['anio', 'Gasto en salud (per capita)']]"
   ]
  },
  {
   "cell_type": "code",
   "execution_count": 43,
   "metadata": {},
   "outputs": [],
   "source": [
    "aux5 = aux4.dropna()"
   ]
  },
  {
   "cell_type": "code",
   "execution_count": 44,
   "metadata": {},
   "outputs": [],
   "source": [
    "aux6 = aux5.groupby('anio')['Gasto en salud (per capita)'].mean()"
   ]
  },
  {
   "cell_type": "code",
   "execution_count": 45,
   "metadata": {},
   "outputs": [],
   "source": [
    "aux7 = aux6.to_frame()"
   ]
  },
  {
   "cell_type": "code",
   "execution_count": 46,
   "metadata": {},
   "outputs": [
    {
     "data": {
      "text/plain": [
       "Index(['Gasto en salud (per capita)'], dtype='object')"
      ]
     },
     "execution_count": 46,
     "metadata": {},
     "output_type": "execute_result"
    }
   ],
   "source": [
    "aux7.columns"
   ]
  },
  {
   "cell_type": "code",
   "execution_count": 47,
   "metadata": {},
   "outputs": [
    {
     "data": {
      "text/plain": [
       "array(['Asia', 'Europa', 'Las Americas', 'Oceania', 'Oriente Medio',\n",
       "       'africa'], dtype=object)"
      ]
     },
     "execution_count": 47,
     "metadata": {},
     "output_type": "execute_result"
    }
   ],
   "source": [
    "aux3['Region'].unique()"
   ]
  },
  {
   "cell_type": "code",
   "execution_count": 48,
   "metadata": {},
   "outputs": [
    {
     "data": {
      "text/plain": [
       "Index(['anio', 'Gasto en salud (per capita)'], dtype='object')"
      ]
     },
     "execution_count": 48,
     "metadata": {},
     "output_type": "execute_result"
    }
   ],
   "source": [
    "aux4.columns"
   ]
  },
  {
   "cell_type": "code",
   "execution_count": 49,
   "metadata": {},
   "outputs": [
    {
     "data": {
      "text/plain": [
       "array([1., 1., 1., 1., 1., 1.])"
      ]
     },
     "execution_count": 49,
     "metadata": {},
     "output_type": "execute_result"
    }
   ],
   "source": [
    "np.ones(aux4[aux4['anio'] == 2001]['Gasto en salud (per capita)'].shape[0])"
   ]
  },
  {
   "cell_type": "code",
   "execution_count": 50,
   "metadata": {},
   "outputs": [
    {
     "data": {
      "image/png": "[encoded data removed]",
      "text/plain": [
       "<Figure size 1000x1400 with 5 Axes>"
      ]
     },
     "metadata": {},
     "output_type": "display_data"
    }
   ],
   "source": [
    "fig, axs = plt.subplots(1, 5, sharex='col', sharey='row', figsize=(10, 14));\n",
    "plt.xticks(rotation='vertical')\n",
    "plt.subplots_adjust(wspace = 0, hspace=0)\n",
    "colors = ['#42aaf4', 'orange', 'green']\n",
    "plt.style.use('seaborn')\n",
    "for i, colname in enumerate(aux4['anio'].unique()):\n",
    "    axs[i].boxplot(list(aux4[aux4['anio'] == colname].T.values[1]))\n",
    "    axs[i].scatter(np.ones(aux4[aux4['anio'] == colname]['Gasto en salud (per capita)'].shape[0]), aux4[aux4['anio'] == colname]['Gasto en salud (per capita)'])\n",
    "#     axs[i].scatter(list(aux4[aux4['anio'] == colname].T.values[1]), aux4[colname], s=100, edgecolors=colors, linewidths=1, \n",
    "#                        facecolors='none')\n",
    "    axs[i].set_xticklabels([\"\"])\n",
    "    axs[i].set_xlabel(colname)\n",
    "    for tick in axs[i].get_xticklabels():\n",
    "        tick.set_rotation(0)"
   ]
  },
  {
   "cell_type": "markdown",
   "metadata": {},
   "source": [
    "## Punto 5\n",
    "\n",
    "Construya una gráfica similar a la siguiente usando el archivo `indicadores-mundiales.csv`. Promedio de gastos per capita por año.\n",
    "\n",
    "![act5](images/prom-region-edades-ano.png)"
   ]
  },
  {
   "cell_type": "code",
   "execution_count": 51,
   "metadata": {},
   "outputs": [],
   "source": [
    "aux = df.copy()"
   ]
  },
  {
   "cell_type": "code",
   "execution_count": 52,
   "metadata": {},
   "outputs": [],
   "source": [
    "aux['anio'] = pd.to_datetime(aux['Ano']).dt.year"
   ]
  },
  {
   "cell_type": "code",
   "execution_count": 53,
   "metadata": {},
   "outputs": [],
   "source": [
    "aux2 = aux.groupby(['anio', 'Region', 'Poblacion 0-14', 'Poblacion 15-64', 'Poblacion 65+'])['Gasto en salud (per capita)'].mean()"
   ]
  },
  {
   "cell_type": "code",
   "execution_count": 54,
   "metadata": {},
   "outputs": [
    {
     "data": {
      "text/plain": [
       "anio  Region  Poblacion 0-14  Poblacion 15-64  Poblacion 65+\n",
       "2000  Asia    14.6            68.2             17.2             2834.0\n",
       "              17.3            71.7             11.0                NaN\n",
       "              21.0            71.7             7.3               491.0\n",
       "              21.5            71.2             7.3               662.0\n",
       "              21.9            65.6             12.5               45.0\n",
       "Name: Gasto en salud (per capita), dtype: float64"
      ]
     },
     "execution_count": 54,
     "metadata": {},
     "output_type": "execute_result"
    }
   ],
   "source": [
    "aux2.head()"
   ]
  },
  {
   "cell_type": "code",
   "execution_count": 55,
   "metadata": {},
   "outputs": [],
   "source": [
    "aux3 = aux2.reset_index()"
   ]
  },
  {
   "cell_type": "code",
   "execution_count": 56,
   "metadata": {},
   "outputs": [],
   "source": [
    "aux3 = aux3.dropna()"
   ]
  },
  {
   "cell_type": "code",
   "execution_count": 57,
   "metadata": {},
   "outputs": [
    {
     "data": {
      "text/html": [
       "<div>\n",
       "<style scoped>\n",
       "    .dataframe tbody tr th:only-of-type {\n",
       "        vertical-align: middle;\n",
       "    }\n",
       "\n",
       "    .dataframe tbody tr th {\n",
       "        vertical-align: top;\n",
       "    }\n",
       "\n",
       "    .dataframe thead th {\n",
       "        text-align: right;\n",
       "    }\n",
       "</style>\n",
       "<table border=\"1\" class=\"dataframe\">\n",
       "  <thead>\n",
       "    <tr style=\"text-align: right;\">\n",
       "      <th></th>\n",
       "      <th>anio</th>\n",
       "      <th>Region</th>\n",
       "      <th>Poblacion 0-14</th>\n",
       "      <th>Poblacion 15-64</th>\n",
       "      <th>Poblacion 65+</th>\n",
       "      <th>Gasto en salud (per capita)</th>\n",
       "    </tr>\n",
       "  </thead>\n",
       "  <tbody>\n",
       "    <tr>\n",
       "      <th>0</th>\n",
       "      <td>2000</td>\n",
       "      <td>Asia</td>\n",
       "      <td>14.6</td>\n",
       "      <td>68.2</td>\n",
       "      <td>17.2</td>\n",
       "      <td>2834.0</td>\n",
       "    </tr>\n",
       "    <tr>\n",
       "      <th>2</th>\n",
       "      <td>2000</td>\n",
       "      <td>Asia</td>\n",
       "      <td>21.0</td>\n",
       "      <td>71.7</td>\n",
       "      <td>7.3</td>\n",
       "      <td>491.0</td>\n",
       "    </tr>\n",
       "    <tr>\n",
       "      <th>3</th>\n",
       "      <td>2000</td>\n",
       "      <td>Asia</td>\n",
       "      <td>21.5</td>\n",
       "      <td>71.2</td>\n",
       "      <td>7.3</td>\n",
       "      <td>662.0</td>\n",
       "    </tr>\n",
       "    <tr>\n",
       "      <th>4</th>\n",
       "      <td>2000</td>\n",
       "      <td>Asia</td>\n",
       "      <td>21.9</td>\n",
       "      <td>65.6</td>\n",
       "      <td>12.5</td>\n",
       "      <td>45.0</td>\n",
       "    </tr>\n",
       "    <tr>\n",
       "      <th>6</th>\n",
       "      <td>2000</td>\n",
       "      <td>Asia</td>\n",
       "      <td>24.2</td>\n",
       "      <td>69.3</td>\n",
       "      <td>6.6</td>\n",
       "      <td>67.0</td>\n",
       "    </tr>\n",
       "  </tbody>\n",
       "</table>\n",
       "</div>"
      ],
      "text/plain": [
       "   anio Region  Poblacion 0-14  Poblacion 15-64  Poblacion 65+  \\\n",
       "0  2000   Asia            14.6             68.2           17.2   \n",
       "2  2000   Asia            21.0             71.7            7.3   \n",
       "3  2000   Asia            21.5             71.2            7.3   \n",
       "4  2000   Asia            21.9             65.6           12.5   \n",
       "6  2000   Asia            24.2             69.3            6.6   \n",
       "\n",
       "   Gasto en salud (per capita)  \n",
       "0                       2834.0  \n",
       "2                        491.0  \n",
       "3                        662.0  \n",
       "4                         45.0  \n",
       "6                         67.0  "
      ]
     },
     "execution_count": 57,
     "metadata": {},
     "output_type": "execute_result"
    }
   ],
   "source": [
    "aux3.head()"
   ]
  },
  {
   "cell_type": "code",
   "execution_count": 58,
   "metadata": {},
   "outputs": [],
   "source": [
    "df=pd.read_csv(open('indicadores-mundiales.csv'), delimiter=',')\n",
    "copia = df.copy()\n",
    "(df.loc[df['Region'] == \"africa\", \"Region\"]) = \"Africa\"\n",
    "soloano=[]\n",
    "soloano = [ z.split('-')[0] for z in df.Ano]\n",
    "df['soloano']=soloano"
   ]
  },
  {
   "cell_type": "code",
   "execution_count": 59,
   "metadata": {},
   "outputs": [
    {
     "data": {
      "text/plain": [
       "Text(0.5, 0.98, 'Region/Ano')"
      ]
     },
     "execution_count": 59,
     "metadata": {},
     "output_type": "execute_result"
    },
    {
     "data": {
      "image/png": "[encoded data removed]",
      "text/plain": [
       "<Figure size 1000x1000 with 18 Axes>"
      ]
     },
     "metadata": {},
     "output_type": "display_data"
    }
   ],
   "source": [
    "Anios= df.soloano.unique()\n",
    "AUX=pd.DataFrame()\n",
    "fig1, axs = plt.subplots(3, 6, sharex='col', sharey='row', figsize=(10, 10))\n",
    "plt.xticks(rotation='vertical')\n",
    "plt.subplots_adjust(wspace = 0, hspace=0)\n",
    "plt.style.use('default')\n",
    "lista=['Poblacion 0-14','Poblacion 15-64','Poblacion 65+']\n",
    "for w, indname in enumerate(lista):\n",
    "    for i, Anio in enumerate(Anios):\n",
    "        y=(df[df['soloano'] == Anio].groupby('Region')[indname].mean()/100)\n",
    "        AUX[Anio]=y\n",
    "        y=[]\n",
    "    AUX.index=df['Region'].unique()\n",
    "    AUXT=AUX.T\n",
    "    for i, colname in enumerate(AUXT.columns):\n",
    "        axs[w,i].plot(AUXT[colname])\n",
    "        if w==0:\n",
    "            axs[w,i].set_title(colname)\n",
    "        if i==0:\n",
    "            axs[w,i].set_ylabel(indname)\n",
    "        for tick in axs[w,i].get_xticklabels():\n",
    "            tick.set_rotation(90)\n",
    "fig1.suptitle('Region/Ano', fontsize=16)"
   ]
  },
  {
   "cell_type": "markdown",
   "metadata": {},
   "source": [
    "---"
   ]
  }
 ],
 "metadata": {
  "kernel_info": {
   "name": "python3"
  },
  "kernelspec": {
   "display_name": "Python 3",
   "language": "python",
   "name": "python3"
  },
  "language_info": {
   "codemirror_mode": {
    "name": "ipython",
    "version": 3
   },
   "file_extension": ".py",
   "mimetype": "text/x-python",
   "name": "python",
   "nbconvert_exporter": "python",
   "pygments_lexer": "ipython3",
   "version": "3.7.3"
  },
  "nteract": {
   "version": "0.7.1"
  },
  "varInspector": {
   "cols": {
    "lenName": 16,
    "lenType": 16,
    "lenVar": 40
   },
   "kernels_config": {
    "python": {
     "delete_cmd_postfix": "",
     "delete_cmd_prefix": "del ",
     "library": "var_list.py",
     "varRefreshCmd": "print(var_dic_list())"
    },
    "r": {
     "delete_cmd_postfix": ") ",
     "delete_cmd_prefix": "rm(",
     "library": "var_list.r",
     "varRefreshCmd": "cat(var_dic_list()) "
    }
   },
   "types_to_exclude": [
    "module",
    "function",
    "builtin_function_or_method",
    "instance",
    "_Feature"
   ],
   "window_display": false
  }
 },
 "nbformat": 4,
 "nbformat_minor": 2
}
